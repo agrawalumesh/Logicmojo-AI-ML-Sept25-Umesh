{
  "nbformat": 4,
  "nbformat_minor": 0,
  "metadata": {
    "colab": {
      "provenance": [],
      "authorship_tag": "ABX9TyNT3KE3h1dxWrPRj/+UbCQ1",
      "include_colab_link": true
    },
    "kernelspec": {
      "name": "python3",
      "display_name": "Python 3"
    },
    "language_info": {
      "name": "python"
    }
  },
  "cells": [
    {
      "cell_type": "markdown",
      "metadata": {
        "id": "view-in-github",
        "colab_type": "text"
      },
      "source": [
        "<a href=\"https://colab.research.google.com/github/agrawalumesh/Logicmojo-AI-ML-Sept25-Umesh/blob/main/Practice.ipynb\" target=\"_parent\"><img src=\"https://colab.research.google.com/assets/colab-badge.svg\" alt=\"Open In Colab\"/></a>"
      ]
    },
    {
      "cell_type": "code",
      "execution_count": null,
      "metadata": {
        "colab": {
          "base_uri": "https://localhost:8080/"
        },
        "id": "djqL8T5OUxbZ",
        "outputId": "ddacce57-15b1-4f5c-e993-7b1692707f17"
      },
      "outputs": [
        {
          "output_type": "execute_result",
          "data": {
            "text/plain": [
              "tuple"
            ]
          },
          "metadata": {},
          "execution_count": 9
        }
      ],
      "source": [
        "coordinates = (10.0, 20.0)\n",
        "type(coordinates)\n",
        "c = (1, 2)\n",
        "type(c)"
      ]
    },
    {
      "cell_type": "code",
      "source": [
        "l=[1,3,0]\n",
        "l"
      ],
      "metadata": {
        "colab": {
          "base_uri": "https://localhost:8080/"
        },
        "id": "5yGOxqdzdeBa",
        "outputId": "e2619e52-6b8c-40e5-a042-ff1a71959f35"
      },
      "execution_count": null,
      "outputs": [
        {
          "output_type": "execute_result",
          "data": {
            "text/plain": [
              "[1, 3, 0]"
            ]
          },
          "metadata": {},
          "execution_count": 10
        }
      ]
    },
    {
      "cell_type": "code",
      "source": [
        "l=9\n",
        "if l<8 and l<5 or l==9:\n",
        "    print(\"hello\")"
      ],
      "metadata": {
        "colab": {
          "base_uri": "https://localhost:8080/"
        },
        "id": "mkE8PrWFhG-e",
        "outputId": "e2e28306-40ee-4dea-91dc-8abacd7817f9"
      },
      "execution_count": null,
      "outputs": [
        {
          "output_type": "stream",
          "name": "stdout",
          "text": [
            "hello\n"
          ]
        }
      ]
    },
    {
      "cell_type": "code",
      "source": [
        "from re import U\n",
        "n=input(\"Please enter value \")\n",
        "try:\n",
        "  n+=1\n",
        "except ValueError :\n",
        "  n=1\n",
        "  print (n)"
      ],
      "metadata": {
        "colab": {
          "base_uri": "https://localhost:8080/",
          "height": 234
        },
        "id": "jgf4kG3wm3VF",
        "outputId": "742498db-fd31-4051-f5e8-ed17e93d856a"
      },
      "execution_count": null,
      "outputs": [
        {
          "name": "stdout",
          "output_type": "stream",
          "text": [
            "Please enter value 1\n"
          ]
        },
        {
          "output_type": "error",
          "ename": "TypeError",
          "evalue": "can only concatenate str (not \"int\") to str",
          "traceback": [
            "\u001b[0;31m---------------------------------------------------------------------------\u001b[0m",
            "\u001b[0;31mTypeError\u001b[0m                                 Traceback (most recent call last)",
            "\u001b[0;32m/tmp/ipython-input-1045136127.py\u001b[0m in \u001b[0;36m<cell line: 0>\u001b[0;34m()\u001b[0m\n\u001b[1;32m      2\u001b[0m \u001b[0mn\u001b[0m\u001b[0;34m=\u001b[0m\u001b[0minput\u001b[0m\u001b[0;34m(\u001b[0m\u001b[0;34m\"Please enter value \"\u001b[0m\u001b[0;34m)\u001b[0m\u001b[0;34m\u001b[0m\u001b[0;34m\u001b[0m\u001b[0m\n\u001b[1;32m      3\u001b[0m \u001b[0;32mtry\u001b[0m\u001b[0;34m:\u001b[0m\u001b[0;34m\u001b[0m\u001b[0;34m\u001b[0m\u001b[0m\n\u001b[0;32m----> 4\u001b[0;31m   \u001b[0mn\u001b[0m\u001b[0;34m+=\u001b[0m\u001b[0;36m1\u001b[0m\u001b[0;34m\u001b[0m\u001b[0;34m\u001b[0m\u001b[0m\n\u001b[0m\u001b[1;32m      5\u001b[0m \u001b[0;32mexcept\u001b[0m \u001b[0mValueError\u001b[0m \u001b[0;34m:\u001b[0m\u001b[0;34m\u001b[0m\u001b[0;34m\u001b[0m\u001b[0m\n\u001b[1;32m      6\u001b[0m   \u001b[0mn\u001b[0m\u001b[0;34m=\u001b[0m\u001b[0;36m1\u001b[0m\u001b[0;34m\u001b[0m\u001b[0;34m\u001b[0m\u001b[0m\n",
            "\u001b[0;31mTypeError\u001b[0m: can only concatenate str (not \"int\") to str"
          ]
        }
      ]
    },
    {
      "cell_type": "code",
      "source": [
        "i=1\n",
        "while i==1:\n",
        "  n=input(\"Please enter the integer number to squere : \")\n",
        "  n=int(n)\n",
        "  if n==5:\n",
        "    break\n",
        "  elif n%4==0:\n",
        "    pass\n",
        "  else:\n",
        "    print (n*n)\n",
        "print (\"User enters 5\")\n"
      ],
      "metadata": {
        "colab": {
          "base_uri": "https://localhost:8080/"
        },
        "id": "DGGk6Lo3q9B9",
        "outputId": "2f778fa7-0224-4176-b539-c3635c2ed401"
      },
      "execution_count": null,
      "outputs": [
        {
          "output_type": "stream",
          "name": "stdout",
          "text": [
            "Please enter the integer number to squere : 5\n",
            "User enters 5\n"
          ]
        }
      ]
    },
    {
      "cell_type": "code",
      "source": [
        "i=1\n",
        "while i==1:\n",
        "  n=input(\"Please enter the integer number to squere : \")\n",
        "  n=int(n)\n",
        "  if n==5:\n",
        "    break\n",
        "  elif n%4==0:\n",
        "    continue\n",
        "  else:\n",
        "    print (n*n)\n",
        "print (\"User enters 5\")"
      ],
      "metadata": {
        "colab": {
          "base_uri": "https://localhost:8080/"
        },
        "id": "qN80k30dqvj-",
        "outputId": "0615f307-f276-4396-ff5e-8911964a4af1"
      },
      "execution_count": null,
      "outputs": [
        {
          "output_type": "stream",
          "name": "stdout",
          "text": [
            "Please enter the integer number to squere : 4\n",
            "Please enter the integer number to squere : 4\n",
            "Please enter the integer number to squere : 4\n",
            "Please enter the integer number to squere : 3\n",
            "9\n",
            "Please enter the integer number to squere : 3\n",
            "9\n",
            "Please enter the integer number to squere : 56\n",
            "Please enter the integer number to squere : 5\n",
            "User enters 5\n"
          ]
        }
      ]
    },
    {
      "cell_type": "code",
      "source": [],
      "metadata": {
        "id": "FPy11qdf1arb"
      },
      "execution_count": null,
      "outputs": []
    },
    {
      "cell_type": "code",
      "source": [
        "i=j=5\n",
        "for i in range(3):\n",
        "  for j in range(5):\n",
        "    print(\"*\", end ='')\n",
        "  print()\n"
      ],
      "metadata": {
        "colab": {
          "base_uri": "https://localhost:8080/"
        },
        "id": "BygT_8zTuWO7",
        "outputId": "db45bab0-940f-4772-fe3d-d0d29efa27e6"
      },
      "execution_count": null,
      "outputs": [
        {
          "output_type": "stream",
          "name": "stdout",
          "text": [
            "*****\n",
            "*****\n",
            "*****\n"
          ]
        }
      ]
    },
    {
      "cell_type": "code",
      "source": [
        "n = 5\n",
        "for x in range(n):\n",
        "  for y in range(x + 1):\n",
        "    print('*', end = \"\")\n",
        "  print()"
      ],
      "metadata": {
        "colab": {
          "base_uri": "https://localhost:8080/"
        },
        "id": "4P_jFdSexGEx",
        "outputId": "f76e4cc1-a75f-4cd3-f015-d743d6f1f7ec"
      },
      "execution_count": null,
      "outputs": [
        {
          "output_type": "stream",
          "name": "stdout",
          "text": [
            "*\n",
            "**\n",
            "***\n",
            "****\n",
            "*****\n"
          ]
        }
      ]
    },
    {
      "cell_type": "code",
      "source": [
        "n=5\n",
        "for i in range(n):\n",
        "  for j in range(n-1 -i):\n",
        "    print(' ',end ='')\n",
        "  for x in range(2*i+1):\n",
        "    print('*',end='')\n",
        "  print ()\n"
      ],
      "metadata": {
        "colab": {
          "base_uri": "https://localhost:8080/"
        },
        "id": "k3pkxZG41cxB",
        "outputId": "6089c024-497f-4fd6-d285-4b9c1acc5034"
      },
      "execution_count": null,
      "outputs": [
        {
          "output_type": "stream",
          "name": "stdout",
          "text": [
            "    *\n",
            "   ***\n",
            "  *****\n",
            " *******\n",
            "*********\n"
          ]
        }
      ]
    },
    {
      "cell_type": "code",
      "source": [
        "for x in range(3):  # Loop for 3 rows\n",
        "    print('*a' * 5)"
      ],
      "metadata": {
        "colab": {
          "base_uri": "https://localhost:8080/"
        },
        "id": "6HzwKVw4xSK1",
        "outputId": "9e4c7924-52f4-48ec-fc44-66e0d8ebb51b"
      },
      "execution_count": null,
      "outputs": [
        {
          "output_type": "stream",
          "name": "stdout",
          "text": [
            "*a*a*a*a*a\n",
            "*a*a*a*a*a\n",
            "*a*a*a*a*a\n"
          ]
        }
      ]
    },
    {
      "cell_type": "code",
      "source": [
        "for i in range(6):  # Loop for 3 rows\n",
        "    print('*' * i)"
      ],
      "metadata": {
        "colab": {
          "base_uri": "https://localhost:8080/"
        },
        "id": "67HsWbQ4xkCG",
        "outputId": "f1d02624-cfe6-40f2-d8a5-ad3b62a3385d"
      },
      "execution_count": null,
      "outputs": [
        {
          "output_type": "stream",
          "name": "stdout",
          "text": [
            "\n",
            "*\n",
            "**\n",
            "***\n",
            "****\n",
            "*****\n"
          ]
        }
      ]
    },
    {
      "cell_type": "markdown",
      "source": [
        "\n",
        "\n",
        "*   Write a program to print a diamond shape using nested loops.\n",
        "    "
      ],
      "metadata": {
        "id": "gfGuh63ZN9ED"
      }
    },
    {
      "cell_type": "code",
      "source": [
        "    *\n",
        "   ***\n",
        "  *****\n",
        " *******\n",
        "*********\n",
        " *******\n",
        "  *****\n",
        "   ***\n",
        "    *"
      ],
      "metadata": {
        "id": "3tU_7FQkOALq"
      },
      "execution_count": null,
      "outputs": []
    },
    {
      "cell_type": "code",
      "source": [
        "n=5\n",
        "for i in range(n):\n",
        "  for j in range(n-1 -i):\n",
        "    print(' ',end ='')\n",
        "  for x in range(2*i+1):\n",
        "    print('*',end='')\n",
        "  print ()\n",
        "for i in range(n-2,-1,-1):  # as does not want reprint line 5\n",
        "  for j in range(n-1 -i):\n",
        "    print(' ',end ='')\n",
        "  for x in range(2*i+1):\n",
        "    print('*',end='')\n",
        "  print ()"
      ],
      "metadata": {
        "colab": {
          "base_uri": "https://localhost:8080/"
        },
        "id": "FTzBJ0auOloE",
        "outputId": "9e55942e-ad97-499b-9bf1-0eaa85241b85"
      },
      "execution_count": null,
      "outputs": [
        {
          "output_type": "stream",
          "name": "stdout",
          "text": [
            "    *\n",
            "   ***\n",
            "  *****\n",
            " *******\n",
            "*********\n",
            " *******\n",
            "  *****\n",
            "   ***\n",
            "    *\n"
          ]
        }
      ]
    },
    {
      "cell_type": "code",
      "source": [
        "n=6\n",
        "for i in range(1,n+1):\n",
        "  for j in range(n-i):\n",
        "    print(' ',end ='')\n",
        "  for x in range(2*i-1):\n",
        "    print('*',end='')\n",
        "  print ()\n",
        "for i in range(n-1,-1,-1):  # as does not want reprint line 5\n",
        "  for j in range(n-i):\n",
        "    print(' ',end ='')\n",
        "  for x in range(2*i-1):\n",
        "    print('*',end='')\n",
        "  print ()"
      ],
      "metadata": {
        "colab": {
          "base_uri": "https://localhost:8080/"
        },
        "id": "-HMjPfZKUuR0",
        "outputId": "c1395615-598f-4fe1-e13a-5d22eaa962a7"
      },
      "execution_count": null,
      "outputs": [
        {
          "output_type": "stream",
          "name": "stdout",
          "text": [
            "     *\n",
            "    ***\n",
            "   *****\n",
            "  *******\n",
            " *********\n",
            "***********\n",
            " *********\n",
            "  *******\n",
            "   *****\n",
            "    ***\n",
            "     *\n",
            "      \n"
          ]
        }
      ]
    },
    {
      "cell_type": "code",
      "source": [
        "range(1,3+1)\n",
        "for i in range(5):\n",
        "  print(i)\n",
        "print('--------')\n",
        "for i in range(2,5):\n",
        "  print(i)\n",
        "print('--------')\n",
        "for i in range(1,3+1):\n",
        "  print(i)\n",
        "print('----v----')\n",
        "for i in range(5, 0, -1):\n",
        "  print(i)\n",
        "print ('--------')\n",
        "for i in range(n-2, -1, -1):\n",
        "  print(i)\n",
        "print ('--------')\n",
        "for i in range(n-2, 0, -1):\n",
        "  print(i)"
      ],
      "metadata": {
        "colab": {
          "base_uri": "https://localhost:8080/"
        },
        "id": "N-kRnSDZPiUC",
        "outputId": "73efbce7-4768-446d-9c27-c139d29c59c0"
      },
      "execution_count": null,
      "outputs": [
        {
          "output_type": "stream",
          "name": "stdout",
          "text": [
            "0\n",
            "1\n",
            "2\n",
            "3\n",
            "4\n",
            "--------\n",
            "2\n",
            "3\n",
            "4\n",
            "--------\n",
            "1\n",
            "2\n",
            "3\n",
            "----v----\n",
            "5\n",
            "4\n",
            "3\n",
            "2\n",
            "1\n",
            "--------\n",
            "3\n",
            "2\n",
            "1\n",
            "0\n",
            "--------\n",
            "3\n",
            "2\n",
            "1\n"
          ]
        }
      ]
    },
    {
      "cell_type": "markdown",
      "source": [
        "  - Create a hollow square where only the borders are *.\n",
        "  "
      ],
      "metadata": {
        "id": "ptd87J8hRO0_"
      }
    },
    {
      "cell_type": "code",
      "source": [
        "*****\n",
        "*   *\n",
        "*   *\n",
        "*   *\n",
        "*****"
      ],
      "metadata": {
        "id": "RL4qS2waV2U8"
      },
      "execution_count": null,
      "outputs": []
    },
    {
      "cell_type": "code",
      "source": [
        "n=6\n",
        "for i in range(1,n+1):\n",
        "\n",
        "  if  i==1 or i==n:\n",
        "    for j in range(n):\n",
        "     print('*',end='')\n",
        "  elif i>1 or i<n:\n",
        "    print('*',end='')\n",
        "    for j in range(n-2):\n",
        "     print(' ',end='')\n",
        "    print('*',end='')\n",
        "  print()\n"
      ],
      "metadata": {
        "colab": {
          "base_uri": "https://localhost:8080/"
        },
        "id": "bEDlKCZlxSzM",
        "outputId": "c373a100-7301-43ba-f98a-c45f26880fd3"
      },
      "execution_count": null,
      "outputs": [
        {
          "output_type": "stream",
          "name": "stdout",
          "text": [
            "******\n",
            "*    *\n",
            "*    *\n",
            "*    *\n",
            "*    *\n",
            "******\n"
          ]
        }
      ]
    },
    {
      "cell_type": "code",
      "source": [
        "n=6\n",
        "for i in range(1,n+1):\n",
        "\n",
        "  if  i==1 or i==n:\n",
        "    for j in range(n):\n",
        "     print('*',end='')\n",
        "  elif i>1 or i<n:\n",
        "    print('*',end='')\n",
        "    for j in range(n-2):\n",
        "     print(' ',end='')\n",
        "    print('*',end='')\n",
        "  print()"
      ],
      "metadata": {
        "id": "P0kY9zC1xy69"
      },
      "execution_count": null,
      "outputs": []
    },
    {
      "cell_type": "code",
      "source": [
        "####Palindrome Checking\n",
        "user_input=input(\"Please enter the string to check Palindrome : \")\n",
        "reverse_user_input=\"\"\n",
        "\n",
        "for i in user_input [::-1] :\n",
        "  reverse_user_input+=i\n",
        "  #print(reverse_user_input)\n",
        "if user_input==reverse_user_input:\n",
        "  print(\"Input string is Palindrome\")\n",
        "else:\n",
        "  print(\"Input string is not Palindrome\")\n"
      ],
      "metadata": {
        "colab": {
          "base_uri": "https://localhost:8080/"
        },
        "id": "t5fVJJTRKvaT",
        "outputId": "09f07f87-db59-4fc1-de92-cc9448ac68a6"
      },
      "execution_count": 11,
      "outputs": [
        {
          "output_type": "stream",
          "name": "stdout",
          "text": [
            "Please enter the string to check Palindrome : level\n",
            "Input string is Palindrome\n"
          ]
        }
      ]
    },
    {
      "cell_type": "code",
      "source": [
        "###count the blank spaces\n",
        "user_input=input(\"Please enter the strint to count space : \")\n",
        "count_space=0\n",
        "\n",
        "for i in user_input :\n",
        "  if i==\" \":\n",
        "    count_space+=1\n",
        "print(\"Total blanck space = \"+ str(count_space))"
      ],
      "metadata": {
        "colab": {
          "base_uri": "https://localhost:8080/"
        },
        "id": "GUO1cmS9N_r5",
        "outputId": "9acf0778-4e09-4b09-bd5f-ebdd72bcab8c"
      },
      "execution_count": 14,
      "outputs": [
        {
          "output_type": "stream",
          "name": "stdout",
          "text": [
            "Please enter the strint to count space : Write program count the blank spaces.\n",
            "Total blanck space = 5\n"
          ]
        }
      ]
    },
    {
      "cell_type": "code",
      "source": [
        "###Reversing a String without using reverse()\n",
        "user_input=input(\"Please enter the string to reverse : \")\n",
        "reverse_user_input=\"\"\n",
        "\n",
        "for i in user_input [::-1] :\n",
        "  reverse_user_input+=i\n",
        "print(\"Ans by loop ==>: \"+reverse_user_input)\n",
        "print(\"Ans by slicing ==>: \"+ user_input [::-1])\n"
      ],
      "metadata": {
        "colab": {
          "base_uri": "https://localhost:8080/"
        },
        "id": "UUz6ocEQPFzO",
        "outputId": "079c1bdd-53e6-4ad7-dc82-b2f807b12484"
      },
      "execution_count": 19,
      "outputs": [
        {
          "output_type": "stream",
          "name": "stdout",
          "text": [
            "Please enter the string to reverse : Reversing a String without using reverse()\n",
            "Ans by loop ==>: )(esrever gnisu tuohtiw gnirtS a gnisreveR\n",
            "Ans by slicing ==>: )(esrever gnisu tuohtiw gnirtS a gnisreveR\n"
          ]
        }
      ]
    },
    {
      "cell_type": "code",
      "source": [
        "print(\"a\"==\"A\")"
      ],
      "metadata": {
        "colab": {
          "base_uri": "https://localhost:8080/"
        },
        "id": "wx0nCQkAZr5u",
        "outputId": "ba37e82f-54ad-472c-ac3d-2ae8885db4ce"
      },
      "execution_count": 21,
      "outputs": [
        {
          "output_type": "stream",
          "name": "stdout",
          "text": [
            "False\n"
          ]
        }
      ]
    },
    {
      "cell_type": "code",
      "source": [
        "### count no. of vowels and print all the vowels.\n",
        "user_input=input(\"Please enter the string to count no. of vowels and to print all the vowels in string: \")\n",
        "vowels = \"aeiouAEIOU\"\n",
        "found_vowel=[]\n",
        "index_vowel=[]\n",
        "count_vowel=0\n",
        "pos=0\n",
        "dist_found_vowel=[]\n",
        "dist_count_vowel=0\n",
        "for i in user_input :\n",
        "  if i in vowels:\n",
        "    count_vowel+=1\n",
        "    found_vowel.append(i)\n",
        "    index_vowel.append(pos)\n",
        "\n",
        "\n",
        "    if i not in dist_found_vowel:\n",
        "        dist_found_vowel.append(i)\n",
        "        dist_count_vowel+=1\n",
        "    #### Looping way ----But it is taking time to execute beacuse of loop\n",
        "    # if dist_count_vowel==0:\n",
        "    #   dist_found_vowel.append(i)\n",
        "    #   dist_count_vowel+=1\n",
        "    # for j in dist_found_vowel:\n",
        "    #   #print(j)\n",
        "\n",
        "    #   if i!=j :\n",
        "\n",
        "    #     dist_found_vowel.append(j)\n",
        "    #     dist_count_vowel+=1\n",
        "\n",
        "    #### Another way\n",
        "      ##if dist_found_vowel.count(i)==0:\n",
        "        ##dist_found_vowel.append(i)\n",
        "        ##dist_count_vowel+=1\n",
        "  pos+=1\n",
        "\n",
        "print(\"vowels found in input string ==> \" ,found_vowel)\n",
        "print(\"vowels count in input string ==> \" ,count_vowel)\n",
        "print(\"index of input string ==> \" ,index_vowel)\n",
        "print(\"Distinct vowels found in input string ==> \" ,dist_found_vowel)\n",
        "print(\"Distinct vowels count in input string ==> \" ,dist_count_vowel)\n"
      ],
      "metadata": {
        "colab": {
          "base_uri": "https://localhost:8080/"
        },
        "id": "F16bAmh2Y6xg",
        "outputId": "e47c5664-c9e3-4377-851a-3683c49ffd28"
      },
      "execution_count": 45,
      "outputs": [
        {
          "output_type": "stream",
          "name": "stdout",
          "text": [
            "Please enter the string to count no. of vowels and to print all the vowels in string: umesh agrawal\n",
            "vowels found in input string ==>  ['u', 'e', 'a', 'a', 'a']\n",
            "vowels count in input string ==>  5\n",
            "index of input string ==>  [0, 2, 6, 9, 11]\n",
            "Distinct vowels found in input string ==>  ['u', 'e', 'a']\n",
            "Distinct vowels count in input string ==>  3\n"
          ]
        }
      ]
    }
  ]
}