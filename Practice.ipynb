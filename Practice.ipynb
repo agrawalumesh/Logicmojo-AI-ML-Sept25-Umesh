{
  "nbformat": 4,
  "nbformat_minor": 0,
  "metadata": {
    "colab": {
      "provenance": [],
      "generative_ai_disabled": true,
      "authorship_tag": "ABX9TyOqx5NgbSNEbsPkPwFOyOJ9",
      "include_colab_link": true
    },
    "kernelspec": {
      "name": "python3",
      "display_name": "Python 3"
    },
    "language_info": {
      "name": "python"
    }
  },
  "cells": [
    {
      "cell_type": "markdown",
      "metadata": {
        "id": "view-in-github",
        "colab_type": "text"
      },
      "source": [
        "<a href=\"https://colab.research.google.com/github/agrawalumesh/Logicmojo-AI-ML-Sept25-Umesh/blob/main/Practice.ipynb\" target=\"_parent\"><img src=\"https://colab.research.google.com/assets/colab-badge.svg\" alt=\"Open In Colab\"/></a>"
      ]
    },
    {
      "cell_type": "code",
      "execution_count": null,
      "metadata": {
        "colab": {
          "base_uri": "https://localhost:8080/"
        },
        "id": "djqL8T5OUxbZ",
        "outputId": "ddacce57-15b1-4f5c-e993-7b1692707f17"
      },
      "outputs": [
        {
          "output_type": "execute_result",
          "data": {
            "text/plain": [
              "tuple"
            ]
          },
          "metadata": {},
          "execution_count": 9
        }
      ],
      "source": [
        "coordinates = (10.0, 20.0)\n",
        "type(coordinates)\n",
        "c = (1, 2)\n",
        "type(c)"
      ]
    },
    {
      "cell_type": "code",
      "source": [
        "l=[1,3,0]\n",
        "l"
      ],
      "metadata": {
        "colab": {
          "base_uri": "https://localhost:8080/"
        },
        "id": "5yGOxqdzdeBa",
        "outputId": "e2619e52-6b8c-40e5-a042-ff1a71959f35"
      },
      "execution_count": null,
      "outputs": [
        {
          "output_type": "execute_result",
          "data": {
            "text/plain": [
              "[1, 3, 0]"
            ]
          },
          "metadata": {},
          "execution_count": 10
        }
      ]
    },
    {
      "cell_type": "code",
      "source": [
        "l=9\n",
        "if l<8 and l<5 or l==9:\n",
        "    print(\"hello\")"
      ],
      "metadata": {
        "colab": {
          "base_uri": "https://localhost:8080/"
        },
        "id": "mkE8PrWFhG-e",
        "outputId": "e2e28306-40ee-4dea-91dc-8abacd7817f9"
      },
      "execution_count": null,
      "outputs": [
        {
          "output_type": "stream",
          "name": "stdout",
          "text": [
            "hello\n"
          ]
        }
      ]
    },
    {
      "cell_type": "code",
      "source": [
        "from re import U\n",
        "n=input(\"Please enter value \")\n",
        "try:\n",
        "  n+=1\n",
        "except ValueError :\n",
        "  n=1\n",
        "  print (n)"
      ],
      "metadata": {
        "colab": {
          "base_uri": "https://localhost:8080/",
          "height": 228
        },
        "id": "jgf4kG3wm3VF",
        "outputId": "7e3dd17c-c08c-4516-c160-69626b6af058"
      },
      "execution_count": null,
      "outputs": [
        {
          "name": "stdout",
          "output_type": "stream",
          "text": [
            "Please enter value hjh\n"
          ]
        },
        {
          "output_type": "error",
          "ename": "TypeError",
          "evalue": "can only concatenate str (not \"int\") to str",
          "traceback": [
            "\u001b[0;31m---------------------------------------------------------------------------\u001b[0m",
            "\u001b[0;31mTypeError\u001b[0m                                 Traceback (most recent call last)",
            "\u001b[0;32m/tmp/ipython-input-4277064283.py\u001b[0m in \u001b[0;36m<cell line: 0>\u001b[0;34m()\u001b[0m\n\u001b[1;32m      2\u001b[0m \u001b[0mn\u001b[0m\u001b[0;34m=\u001b[0m\u001b[0minput\u001b[0m\u001b[0;34m(\u001b[0m\u001b[0;34m\"Please enter value \"\u001b[0m\u001b[0;34m)\u001b[0m\u001b[0;34m\u001b[0m\u001b[0;34m\u001b[0m\u001b[0m\n\u001b[1;32m      3\u001b[0m \u001b[0;32mtry\u001b[0m\u001b[0;34m:\u001b[0m\u001b[0;34m\u001b[0m\u001b[0;34m\u001b[0m\u001b[0m\n\u001b[0;32m----> 4\u001b[0;31m   \u001b[0mn\u001b[0m\u001b[0;34m+=\u001b[0m\u001b[0;36m1\u001b[0m\u001b[0;34m\u001b[0m\u001b[0;34m\u001b[0m\u001b[0m\n\u001b[0m\u001b[1;32m      5\u001b[0m \u001b[0;32mexcept\u001b[0m \u001b[0mValueError\u001b[0m\u001b[0;34m:\u001b[0m\u001b[0;34m\u001b[0m\u001b[0;34m\u001b[0m\u001b[0m\n\u001b[1;32m      6\u001b[0m   \u001b[0mn\u001b[0m\u001b[0;34m=\u001b[0m\u001b[0;36m1\u001b[0m\u001b[0;34m\u001b[0m\u001b[0;34m\u001b[0m\u001b[0m\n",
            "\u001b[0;31mTypeError\u001b[0m: can only concatenate str (not \"int\") to str"
          ]
        }
      ]
    },
    {
      "cell_type": "code",
      "source": [
        "i=1\n",
        "while i==1:\n",
        "  n=input(\"Please enter the integer number to squere : \")\n",
        "  n=int(n)\n",
        "  if n==5:\n",
        "    break\n",
        "  elif n%4==0:\n",
        "    pass\n",
        "  else:\n",
        "    print (n*n)\n",
        "print (\"User enters 5\")\n"
      ],
      "metadata": {
        "colab": {
          "base_uri": "https://localhost:8080/",
          "height": 373
        },
        "id": "DGGk6Lo3q9B9",
        "outputId": "b28da12c-c581-420a-b571-92e9ca367a02"
      },
      "execution_count": null,
      "outputs": [
        {
          "name": "stdout",
          "output_type": "stream",
          "text": [
            "Please enter the integer number to squere : 4\n"
          ]
        },
        {
          "output_type": "error",
          "ename": "KeyboardInterrupt",
          "evalue": "Interrupted by user",
          "traceback": [
            "\u001b[0;31m---------------------------------------------------------------------------\u001b[0m",
            "\u001b[0;31mKeyboardInterrupt\u001b[0m                         Traceback (most recent call last)",
            "\u001b[0;32m/tmp/ipython-input-1194059625.py\u001b[0m in \u001b[0;36m<cell line: 0>\u001b[0;34m()\u001b[0m\n\u001b[1;32m      1\u001b[0m \u001b[0mi\u001b[0m\u001b[0;34m=\u001b[0m\u001b[0;36m1\u001b[0m\u001b[0;34m\u001b[0m\u001b[0;34m\u001b[0m\u001b[0m\n\u001b[1;32m      2\u001b[0m \u001b[0;32mwhile\u001b[0m \u001b[0mi\u001b[0m\u001b[0;34m==\u001b[0m\u001b[0;36m1\u001b[0m\u001b[0;34m:\u001b[0m\u001b[0;34m\u001b[0m\u001b[0;34m\u001b[0m\u001b[0m\n\u001b[0;32m----> 3\u001b[0;31m   \u001b[0mn\u001b[0m\u001b[0;34m=\u001b[0m\u001b[0minput\u001b[0m\u001b[0;34m(\u001b[0m\u001b[0;34m\"Please enter the integer number to squere : \"\u001b[0m\u001b[0;34m)\u001b[0m\u001b[0;34m\u001b[0m\u001b[0;34m\u001b[0m\u001b[0m\n\u001b[0m\u001b[1;32m      4\u001b[0m   \u001b[0mn\u001b[0m\u001b[0;34m=\u001b[0m\u001b[0mint\u001b[0m\u001b[0;34m(\u001b[0m\u001b[0mn\u001b[0m\u001b[0;34m)\u001b[0m\u001b[0;34m\u001b[0m\u001b[0;34m\u001b[0m\u001b[0m\n\u001b[1;32m      5\u001b[0m   \u001b[0;32mif\u001b[0m \u001b[0mn\u001b[0m\u001b[0;34m==\u001b[0m\u001b[0;36m5\u001b[0m\u001b[0;34m:\u001b[0m\u001b[0;34m\u001b[0m\u001b[0;34m\u001b[0m\u001b[0m\n",
            "\u001b[0;32m/usr/local/lib/python3.12/dist-packages/ipykernel/kernelbase.py\u001b[0m in \u001b[0;36mraw_input\u001b[0;34m(self, prompt)\u001b[0m\n\u001b[1;32m   1175\u001b[0m                 \u001b[0;34m\"raw_input was called, but this frontend does not support input requests.\"\u001b[0m\u001b[0;34m\u001b[0m\u001b[0;34m\u001b[0m\u001b[0m\n\u001b[1;32m   1176\u001b[0m             )\n\u001b[0;32m-> 1177\u001b[0;31m         return self._input_request(\n\u001b[0m\u001b[1;32m   1178\u001b[0m             \u001b[0mstr\u001b[0m\u001b[0;34m(\u001b[0m\u001b[0mprompt\u001b[0m\u001b[0;34m)\u001b[0m\u001b[0;34m,\u001b[0m\u001b[0;34m\u001b[0m\u001b[0;34m\u001b[0m\u001b[0m\n\u001b[1;32m   1179\u001b[0m             \u001b[0mself\u001b[0m\u001b[0;34m.\u001b[0m\u001b[0m_parent_ident\u001b[0m\u001b[0;34m[\u001b[0m\u001b[0;34m\"shell\"\u001b[0m\u001b[0;34m]\u001b[0m\u001b[0;34m,\u001b[0m\u001b[0;34m\u001b[0m\u001b[0;34m\u001b[0m\u001b[0m\n",
            "\u001b[0;32m/usr/local/lib/python3.12/dist-packages/ipykernel/kernelbase.py\u001b[0m in \u001b[0;36m_input_request\u001b[0;34m(self, prompt, ident, parent, password)\u001b[0m\n\u001b[1;32m   1217\u001b[0m             \u001b[0;32mexcept\u001b[0m \u001b[0mKeyboardInterrupt\u001b[0m\u001b[0;34m:\u001b[0m\u001b[0;34m\u001b[0m\u001b[0;34m\u001b[0m\u001b[0m\n\u001b[1;32m   1218\u001b[0m                 \u001b[0;31m# re-raise KeyboardInterrupt, to truncate traceback\u001b[0m\u001b[0;34m\u001b[0m\u001b[0;34m\u001b[0m\u001b[0m\n\u001b[0;32m-> 1219\u001b[0;31m                 \u001b[0;32mraise\u001b[0m \u001b[0mKeyboardInterrupt\u001b[0m\u001b[0;34m(\u001b[0m\u001b[0;34m\"Interrupted by user\"\u001b[0m\u001b[0;34m)\u001b[0m \u001b[0;32mfrom\u001b[0m \u001b[0;32mNone\u001b[0m\u001b[0;34m\u001b[0m\u001b[0;34m\u001b[0m\u001b[0m\n\u001b[0m\u001b[1;32m   1220\u001b[0m             \u001b[0;32mexcept\u001b[0m \u001b[0mException\u001b[0m\u001b[0;34m:\u001b[0m\u001b[0;34m\u001b[0m\u001b[0;34m\u001b[0m\u001b[0m\n\u001b[1;32m   1221\u001b[0m                 \u001b[0mself\u001b[0m\u001b[0;34m.\u001b[0m\u001b[0mlog\u001b[0m\u001b[0;34m.\u001b[0m\u001b[0mwarning\u001b[0m\u001b[0;34m(\u001b[0m\u001b[0;34m\"Invalid Message:\"\u001b[0m\u001b[0;34m,\u001b[0m \u001b[0mexc_info\u001b[0m\u001b[0;34m=\u001b[0m\u001b[0;32mTrue\u001b[0m\u001b[0;34m)\u001b[0m\u001b[0;34m\u001b[0m\u001b[0;34m\u001b[0m\u001b[0m\n",
            "\u001b[0;31mKeyboardInterrupt\u001b[0m: Interrupted by user"
          ]
        }
      ]
    },
    {
      "cell_type": "code",
      "source": [
        "i=1\n",
        "while i==1:\n",
        "  n=input(\"Please enter the integer number to squere : \")\n",
        "  n=int(n)\n",
        "  if n==5:\n",
        "    break\n",
        "  elif n%4==0:\n",
        "    continue\n",
        "  else:\n",
        "    print (n*n)\n",
        "print (\"User enters 5\")"
      ],
      "metadata": {
        "colab": {
          "base_uri": "https://localhost:8080/"
        },
        "id": "qN80k30dqvj-",
        "outputId": "0615f307-f276-4396-ff5e-8911964a4af1"
      },
      "execution_count": null,
      "outputs": [
        {
          "output_type": "stream",
          "name": "stdout",
          "text": [
            "Please enter the integer number to squere : 4\n",
            "Please enter the integer number to squere : 4\n",
            "Please enter the integer number to squere : 4\n",
            "Please enter the integer number to squere : 3\n",
            "9\n",
            "Please enter the integer number to squere : 3\n",
            "9\n",
            "Please enter the integer number to squere : 56\n",
            "Please enter the integer number to squere : 5\n",
            "User enters 5\n"
          ]
        }
      ]
    },
    {
      "cell_type": "code",
      "source": [],
      "metadata": {
        "id": "FPy11qdf1arb"
      },
      "execution_count": null,
      "outputs": []
    },
    {
      "cell_type": "code",
      "source": [
        "i=j=5\n",
        "for i in range(3):\n",
        "  for j in range(5):\n",
        "    print(\"*\", end ='')\n",
        "  print()\n"
      ],
      "metadata": {
        "colab": {
          "base_uri": "https://localhost:8080/"
        },
        "id": "BygT_8zTuWO7",
        "outputId": "db45bab0-940f-4772-fe3d-d0d29efa27e6"
      },
      "execution_count": null,
      "outputs": [
        {
          "output_type": "stream",
          "name": "stdout",
          "text": [
            "*****\n",
            "*****\n",
            "*****\n"
          ]
        }
      ]
    },
    {
      "cell_type": "code",
      "source": [
        "n = 5\n",
        "for x in range(n):\n",
        "  for y in range(x + 1):\n",
        "    print('*', end = \"\")\n",
        "  print()"
      ],
      "metadata": {
        "colab": {
          "base_uri": "https://localhost:8080/"
        },
        "id": "4P_jFdSexGEx",
        "outputId": "f76e4cc1-a75f-4cd3-f015-d743d6f1f7ec"
      },
      "execution_count": null,
      "outputs": [
        {
          "output_type": "stream",
          "name": "stdout",
          "text": [
            "*\n",
            "**\n",
            "***\n",
            "****\n",
            "*****\n"
          ]
        }
      ]
    },
    {
      "cell_type": "code",
      "source": [
        "n=5\n",
        "for i in range(n):\n",
        "  for j in range(n-1 -i):\n",
        "    print(' ',end ='')\n",
        "  for x in range(2*i+1):\n",
        "    print('*',end='')\n",
        "  print ()\n"
      ],
      "metadata": {
        "colab": {
          "base_uri": "https://localhost:8080/"
        },
        "id": "k3pkxZG41cxB",
        "outputId": "6089c024-497f-4fd6-d285-4b9c1acc5034"
      },
      "execution_count": null,
      "outputs": [
        {
          "output_type": "stream",
          "name": "stdout",
          "text": [
            "    *\n",
            "   ***\n",
            "  *****\n",
            " *******\n",
            "*********\n"
          ]
        }
      ]
    },
    {
      "cell_type": "code",
      "source": [
        "for x in range(3):  # Loop for 3 rows\n",
        "    print('*a' * 5)"
      ],
      "metadata": {
        "colab": {
          "base_uri": "https://localhost:8080/"
        },
        "id": "6HzwKVw4xSK1",
        "outputId": "9e4c7924-52f4-48ec-fc44-66e0d8ebb51b"
      },
      "execution_count": null,
      "outputs": [
        {
          "output_type": "stream",
          "name": "stdout",
          "text": [
            "*a*a*a*a*a\n",
            "*a*a*a*a*a\n",
            "*a*a*a*a*a\n"
          ]
        }
      ]
    },
    {
      "cell_type": "code",
      "source": [
        "for i in range(6):  # Loop for 3 rows\n",
        "    print('*' * i)"
      ],
      "metadata": {
        "colab": {
          "base_uri": "https://localhost:8080/"
        },
        "id": "67HsWbQ4xkCG",
        "outputId": "f1d02624-cfe6-40f2-d8a5-ad3b62a3385d"
      },
      "execution_count": null,
      "outputs": [
        {
          "output_type": "stream",
          "name": "stdout",
          "text": [
            "\n",
            "*\n",
            "**\n",
            "***\n",
            "****\n",
            "*****\n"
          ]
        }
      ]
    },
    {
      "cell_type": "markdown",
      "source": [
        "\n",
        "\n",
        "*   Write a program to print a diamond shape using nested loops.\n",
        "    "
      ],
      "metadata": {
        "id": "gfGuh63ZN9ED"
      }
    },
    {
      "cell_type": "code",
      "source": [
        "    *\n",
        "   ***\n",
        "  *****\n",
        " *******\n",
        "*********\n",
        " *******\n",
        "  *****\n",
        "   ***\n",
        "    *"
      ],
      "metadata": {
        "id": "3tU_7FQkOALq"
      },
      "execution_count": null,
      "outputs": []
    },
    {
      "cell_type": "code",
      "source": [
        "n=5\n",
        "for i in range(n):\n",
        "  for j in range(n-1 -i):\n",
        "    print(' ',end ='')\n",
        "  for x in range(2*i+1):\n",
        "    print('*',end='')\n",
        "  print ()\n",
        "for i in range(n-2,-1,-1):  # as does not want reprint line 5\n",
        "  for j in range(n-1 -i):\n",
        "    print(' ',end ='')\n",
        "  for x in range(2*i+1):\n",
        "    print('*',end='')\n",
        "  print ()"
      ],
      "metadata": {
        "colab": {
          "base_uri": "https://localhost:8080/"
        },
        "id": "FTzBJ0auOloE",
        "outputId": "9e55942e-ad97-499b-9bf1-0eaa85241b85"
      },
      "execution_count": null,
      "outputs": [
        {
          "output_type": "stream",
          "name": "stdout",
          "text": [
            "    *\n",
            "   ***\n",
            "  *****\n",
            " *******\n",
            "*********\n",
            " *******\n",
            "  *****\n",
            "   ***\n",
            "    *\n"
          ]
        }
      ]
    },
    {
      "cell_type": "code",
      "source": [
        "n=6\n",
        "for i in range(1,n+1):\n",
        "  for j in range(n-i):\n",
        "    print(' ',end ='')\n",
        "  for x in range(2*i-1):\n",
        "    print('*',end='')\n",
        "  print ()\n",
        "for i in range(n-1,-1,-1):  # as does not want reprint line 5\n",
        "  for j in range(n-i):\n",
        "    print(' ',end ='')\n",
        "  for x in range(2*i-1):\n",
        "    print('*',end='')\n",
        "  print ()"
      ],
      "metadata": {
        "colab": {
          "base_uri": "https://localhost:8080/"
        },
        "id": "-HMjPfZKUuR0",
        "outputId": "c1395615-598f-4fe1-e13a-5d22eaa962a7"
      },
      "execution_count": null,
      "outputs": [
        {
          "output_type": "stream",
          "name": "stdout",
          "text": [
            "     *\n",
            "    ***\n",
            "   *****\n",
            "  *******\n",
            " *********\n",
            "***********\n",
            " *********\n",
            "  *******\n",
            "   *****\n",
            "    ***\n",
            "     *\n",
            "      \n"
          ]
        }
      ]
    },
    {
      "cell_type": "code",
      "source": [
        "range(1,3+1)\n",
        "for i in range(5):\n",
        "  print(i)\n",
        "print('--------')\n",
        "for i in range(2,5):\n",
        "  print(i)\n",
        "print('--------')\n",
        "for i in range(1,3+1):\n",
        "  print(i)\n",
        "print('----v----')\n",
        "for i in range(5, 0, -1):\n",
        "  print(i)\n",
        "print ('--------')\n",
        "for i in range(n-2, -1, -1):\n",
        "  print(i)\n",
        "print ('--------')\n",
        "for i in range(n-2, 0, -1):\n",
        "  print(i)"
      ],
      "metadata": {
        "colab": {
          "base_uri": "https://localhost:8080/"
        },
        "id": "N-kRnSDZPiUC",
        "outputId": "73efbce7-4768-446d-9c27-c139d29c59c0"
      },
      "execution_count": null,
      "outputs": [
        {
          "output_type": "stream",
          "name": "stdout",
          "text": [
            "0\n",
            "1\n",
            "2\n",
            "3\n",
            "4\n",
            "--------\n",
            "2\n",
            "3\n",
            "4\n",
            "--------\n",
            "1\n",
            "2\n",
            "3\n",
            "----v----\n",
            "5\n",
            "4\n",
            "3\n",
            "2\n",
            "1\n",
            "--------\n",
            "3\n",
            "2\n",
            "1\n",
            "0\n",
            "--------\n",
            "3\n",
            "2\n",
            "1\n"
          ]
        }
      ]
    },
    {
      "cell_type": "markdown",
      "source": [
        "\n",
        "\n",
        "*   Create a hollow square where only the borders are *.\n",
        "\n"
      ],
      "metadata": {
        "id": "4dKwlERMu5VH"
      }
    },
    {
      "cell_type": "code",
      "source": [
        "*****\n",
        "*   *\n",
        "*   *\n",
        "*   *\n",
        "*****"
      ],
      "metadata": {
        "id": "RL4qS2waV2U8"
      },
      "execution_count": null,
      "outputs": []
    },
    {
      "cell_type": "code",
      "source": [
        "n=6\n",
        "for i in range(1,n+1):\n",
        "  #print(i)\n",
        "  if  i==1 or i==n:\n",
        "    for j in range(n):\n",
        "     print('*',end='')\n",
        "  elif i>1 or i<n:\n",
        "    print('*',end='')\n",
        "    for j in range(n-2):\n",
        "     print(' ',end='')\n",
        "    print('*',end='')\n",
        "  print()\n"
      ],
      "metadata": {
        "colab": {
          "base_uri": "https://localhost:8080/"
        },
        "id": "v101afozV_33",
        "outputId": "06a8255c-5f86-49f3-d6de-390a1ad7296a"
      },
      "execution_count": null,
      "outputs": [
        {
          "output_type": "stream",
          "name": "stdout",
          "text": [
            "******\n",
            "*    *\n",
            "*    *\n",
            "*    *\n",
            "*    *\n",
            "******\n"
          ]
        }
      ]
    },
    {
      "cell_type": "code",
      "source": [],
      "metadata": {
        "id": "GH5P6mc9unEY"
      },
      "execution_count": null,
      "outputs": []
    }
  ]
}